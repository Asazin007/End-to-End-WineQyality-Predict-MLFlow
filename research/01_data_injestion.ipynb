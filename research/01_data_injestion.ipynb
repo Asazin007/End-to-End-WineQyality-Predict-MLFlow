{
 "cells": [
  {
   "cell_type": "code",
   "execution_count": 1,
   "metadata": {},
   "outputs": [],
   "source": [
    "import os"
   ]
  },
  {
   "cell_type": "code",
   "execution_count": 2,
   "metadata": {},
   "outputs": [
    {
     "data": {
      "text/plain": [
       "'c:\\\\Users\\\\91630\\\\Desktop\\\\Devs\\\\ML\\\\Prediction_project\\\\research'"
      ]
     },
     "execution_count": 2,
     "metadata": {},
     "output_type": "execute_result"
    }
   ],
   "source": [
    "%pwd"
   ]
  },
  {
   "cell_type": "code",
   "execution_count": 3,
   "metadata": {},
   "outputs": [],
   "source": [
    "os.chdir(\"../\")"
   ]
  },
  {
   "cell_type": "code",
   "execution_count": 4,
   "metadata": {},
   "outputs": [
    {
     "data": {
      "text/plain": [
       "'c:\\\\Users\\\\91630\\\\Desktop\\\\Devs\\\\ML\\\\Prediction_project'"
      ]
     },
     "execution_count": 4,
     "metadata": {},
     "output_type": "execute_result"
    }
   ],
   "source": [
    "%pwd"
   ]
  },
  {
   "cell_type": "code",
   "execution_count": 8,
   "metadata": {},
   "outputs": [],
   "source": [
    "from dataclasses import dataclass\n",
    "from pathlib import Path\n",
    "\n",
    "@dataclass(frozen=True)\n",
    "class DataIngestionConfig:\n",
    "    root_dir: Path\n",
    "    source_URL :str\n",
    "    local_data_file : Path\n",
    "    unzip_dir :Path "
   ]
  },
  {
   "cell_type": "code",
   "execution_count": 1,
   "metadata": {},
   "outputs": [],
   "source": [
    "from src.ml_project.constants import *\n",
    "from src.ml_project.utils.common import read_yaml, create_directories"
   ]
  },
  {
   "cell_type": "code",
   "execution_count": 2,
   "metadata": {},
   "outputs": [
    {
     "ename": "NameError",
     "evalue": "name 'DataIngestionConfig' is not defined",
     "output_type": "error",
     "traceback": [
      "\u001b[1;31m---------------------------------------------------------------------------\u001b[0m",
      "\u001b[1;31mNameError\u001b[0m                                 Traceback (most recent call last)",
      "\u001b[1;32mc:\\Users\\91630\\Desktop\\Devs\\ML\\Prediction_project\\research\\01_data_injestion.ipynb Cell 7\u001b[0m line \u001b[0;36m1\n\u001b[1;32m----> <a href='vscode-notebook-cell:/c%3A/Users/91630/Desktop/Devs/ML/Prediction_project/research/01_data_injestion.ipynb#W6sZmlsZQ%3D%3D?line=0'>1</a>\u001b[0m \u001b[39mclass\u001b[39;00m \u001b[39mconfigurationManager\u001b[39;00m:\n\u001b[0;32m      <a href='vscode-notebook-cell:/c%3A/Users/91630/Desktop/Devs/ML/Prediction_project/research/01_data_injestion.ipynb#W6sZmlsZQ%3D%3D?line=1'>2</a>\u001b[0m     \u001b[39mdef\u001b[39;00m \u001b[39m__init__\u001b[39m(\u001b[39mself\u001b[39m,\n\u001b[0;32m      <a href='vscode-notebook-cell:/c%3A/Users/91630/Desktop/Devs/ML/Prediction_project/research/01_data_injestion.ipynb#W6sZmlsZQ%3D%3D?line=2'>3</a>\u001b[0m          config_filepath\u001b[39m=\u001b[39m CONFIG_FILE_PATH \n\u001b[0;32m      <a href='vscode-notebook-cell:/c%3A/Users/91630/Desktop/Devs/ML/Prediction_project/research/01_data_injestion.ipynb#W6sZmlsZQ%3D%3D?line=3'>4</a>\u001b[0m ,params_filepath\u001b[39m=\u001b[39m PARAMS_FILE_PATH ,\n\u001b[0;32m      <a href='vscode-notebook-cell:/c%3A/Users/91630/Desktop/Devs/ML/Prediction_project/research/01_data_injestion.ipynb#W6sZmlsZQ%3D%3D?line=4'>5</a>\u001b[0m schema_filepath\u001b[39m=\u001b[39mSCHEMA_FILE_PATH ) :\n\u001b[0;32m      <a href='vscode-notebook-cell:/c%3A/Users/91630/Desktop/Devs/ML/Prediction_project/research/01_data_injestion.ipynb#W6sZmlsZQ%3D%3D?line=5'>6</a>\u001b[0m         \u001b[39mself\u001b[39m\u001b[39m.\u001b[39mconfig \u001b[39m=\u001b[39m read_yaml(config_filepath)\n",
      "\u001b[1;32mc:\\Users\\91630\\Desktop\\Devs\\ML\\Prediction_project\\research\\01_data_injestion.ipynb Cell 7\u001b[0m line \u001b[0;36m1\n\u001b[0;32m      <a href='vscode-notebook-cell:/c%3A/Users/91630/Desktop/Devs/ML/Prediction_project/research/01_data_injestion.ipynb#W6sZmlsZQ%3D%3D?line=7'>8</a>\u001b[0m     \u001b[39mself\u001b[39m\u001b[39m.\u001b[39mschema \u001b[39m=\u001b[39m read_yaml(schema_filepath)\n\u001b[0;32m     <a href='vscode-notebook-cell:/c%3A/Users/91630/Desktop/Devs/ML/Prediction_project/research/01_data_injestion.ipynb#W6sZmlsZQ%3D%3D?line=9'>10</a>\u001b[0m     create_directories([\u001b[39mself\u001b[39m\u001b[39m.\u001b[39mconfig\u001b[39m.\u001b[39martifats_root])\n\u001b[1;32m---> <a href='vscode-notebook-cell:/c%3A/Users/91630/Desktop/Devs/ML/Prediction_project/research/01_data_injestion.ipynb#W6sZmlsZQ%3D%3D?line=10'>11</a>\u001b[0m \u001b[39mdef\u001b[39;00m \u001b[39mget_data_ingestion_config\u001b[39m(\u001b[39mself\u001b[39m)\u001b[39m-\u001b[39m\u001b[39m>\u001b[39m DataIngestionConfig:\n\u001b[0;32m     <a href='vscode-notebook-cell:/c%3A/Users/91630/Desktop/Devs/ML/Prediction_project/research/01_data_injestion.ipynb#W6sZmlsZQ%3D%3D?line=11'>12</a>\u001b[0m     config \u001b[39m=\u001b[39m \u001b[39mself\u001b[39m\u001b[39m.\u001b[39mconfig\u001b[39m.\u001b[39mdata_ingestion\n\u001b[0;32m     <a href='vscode-notebook-cell:/c%3A/Users/91630/Desktop/Devs/ML/Prediction_project/research/01_data_injestion.ipynb#W6sZmlsZQ%3D%3D?line=12'>13</a>\u001b[0m     create_directories([config\u001b[39m.\u001b[39mroot_dir])\n",
      "\u001b[1;31mNameError\u001b[0m: name 'DataIngestionConfig' is not defined"
     ]
    }
   ],
   "source": [
    "class configurationManager:\n",
    "    def __init__(self,\n",
    "         config_filepath= CONFIG_FILE_PATH \n",
    ",params_filepath= PARAMS_FILE_PATH ,\n",
    "schema_filepath=SCHEMA_FILE_PATH ) :\n",
    "        self.config = read_yaml(config_filepath)\n",
    "        self.params= read_yaml(params_filepath)\n",
    "        self.schema = read_yaml(schema_filepath)\n",
    "        \n",
    "        create_directories([self.config.artifats_root])\n",
    "    def get_data_ingestion_config(self)-> DataIngestionConfig:\n",
    "        config = self.config.data_ingestion\n",
    "        create_directories([config.root_dir])\n",
    "        data_ingestion_config= DataIngestionConfig(\n",
    "            root_dir=config.root_dir,\n",
    "            source_URL=config.source_URL,\n",
    "            local_data_file=config.local_data_file,\n",
    "            unzip_dir= config.unzip_dir\n",
    "        )\n",
    "        return data_ingestion_config\n",
    "    "
   ]
  },
  {
   "cell_type": "code",
   "execution_count": null,
   "metadata": {},
   "outputs": [],
   "source": []
  }
 ],
 "metadata": {
  "kernelspec": {
   "display_name": "Python 3",
   "language": "python",
   "name": "python3"
  },
  "language_info": {
   "codemirror_mode": {
    "name": "ipython",
    "version": 3
   },
   "file_extension": ".py",
   "mimetype": "text/x-python",
   "name": "python",
   "nbconvert_exporter": "python",
   "pygments_lexer": "ipython3",
   "version": "3.10.13"
  }
 },
 "nbformat": 4,
 "nbformat_minor": 2
}
